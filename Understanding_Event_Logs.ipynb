{
  "nbformat": 4,
  "nbformat_minor": 0,
  "metadata": {
    "colab": {
      "name": "Understanding Event Logs",
      "version": "0.3.2",
      "provenance": [],
      "collapsed_sections": [],
      "include_colab_link": true
    },
    "kernelspec": {
      "name": "python3",
      "display_name": "Python 3"
    }
  },
  "cells": [
    {
      "cell_type": "markdown",
      "metadata": {
        "id": "view-in-github",
        "colab_type": "text"
      },
      "source": [
        "<a href=\"https://colab.research.google.com/github/theventurecity/data-toolkit/blob/master/Understanding_Event_Logs.ipynb\" target=\"_parent\"><img src=\"https://colab.research.google.com/assets/colab-badge.svg\" alt=\"Open In Colab\"/></a>"
      ]
    },
    {
      "metadata": {
        "id": "OpetXnsuOL_r",
        "colab_type": "text"
      },
      "cell_type": "markdown",
      "source": [
        "![TheVentureCity](https://theventure.city/wp-content/uploads/2017/06/Theventurecity-logoweb-1.png)\n",
        "\n",
        "# Understanding Event Logs\n",
        "\n",
        "User-level tracking allows for an array of analyses that help us understand engagement, retention, and growth accounting. In fact, just a few fields—user id(s), timestamp, event name, transaction amount—can be used to derive a variety of useful insights. And you don't need expensive tools to do it. TheVentureCity's [Data Pipeline Toolkit for Early-Stage Startups](https://github.com/theventurecity/data-toolkit) contains a comprehensive discussion about what to do once you have a good event log. \n",
        "\n",
        "## Definitions\n",
        "\n",
        "**“Events”** are the things that users do in your product, whether it's an app, a website, a marketplace, a store, a platform, a game, or any other configuration. Some events such as purchases, transactions, registrations, referrals, posts, shares, or likes tie directly to the health of your product and should thus be considered **“key events.”**\n",
        "\n",
        "An **“event log”** is a record of every date/time an event occurs and what user triggered that event. It captures the “who, what, when, where, and how much” of the activity in your product.\n",
        "\n",
        "## Viewing a simple event log in Pandas\n",
        "\n",
        "If an event log is tracking one type of key event only, it can contain as few as two columns:\n",
        "\n",
        "* Unique user identifier (who)\n",
        "* Event date or date/time (when)\n",
        "\n",
        "Python's Pandas package is ideal for processing event logs. Once we load the data into memory in the form of a Pandas DataFrame, Pandas has a multitude of functions to help us filter, aggregate, and transform the data into a DataFrames that can help us make insights. Here's what a simple event log looks like if we load it into a Pandas DataFrame:"
      ]
    },
    {
      "metadata": {
        "id": "yYXWl2KmuGVY",
        "colab_type": "code",
        "outputId": "ff871510-9eb0-4a33-ffba-cd8ace0fc599",
        "colab": {
          "base_uri": "https://localhost:8080/",
          "height": 355
        }
      },
      "cell_type": "code",
      "source": [
        "# Import Pandas\n",
        "import pandas as pd\n",
        "\n",
        "# Edit this filename to your local filename.csv if using a local CSV file\n",
        "filename = 'https://raw.githubusercontent.com/theventurecity/analytics/master/data/SmileCo_transactions.csv'\n",
        "\n",
        "t = pd.read_csv(filename)\n",
        "t.tail(10)"
      ],
      "execution_count": 0,
      "outputs": [
        {
          "output_type": "execute_result",
          "data": {
            "text/html": [
              "<div>\n",
              "<style scoped>\n",
              "    .dataframe tbody tr th:only-of-type {\n",
              "        vertical-align: middle;\n",
              "    }\n",
              "\n",
              "    .dataframe tbody tr th {\n",
              "        vertical-align: top;\n",
              "    }\n",
              "\n",
              "    .dataframe thead th {\n",
              "        text-align: right;\n",
              "    }\n",
              "</style>\n",
              "<table border=\"1\" class=\"dataframe\">\n",
              "  <thead>\n",
              "    <tr style=\"text-align: right;\">\n",
              "      <th></th>\n",
              "      <th>user_id</th>\n",
              "      <th>activity_date</th>\n",
              "    </tr>\n",
              "  </thead>\n",
              "  <tbody>\n",
              "    <tr>\n",
              "      <th>1209696</th>\n",
              "      <td>438E84E2-CDD3-4311-BC67-8B726149CFCB</td>\n",
              "      <td>2019-02-20 02:31:37.0000000</td>\n",
              "    </tr>\n",
              "    <tr>\n",
              "      <th>1209697</th>\n",
              "      <td>8CC36A55-4B70-48D6-A67C-16C290D62988</td>\n",
              "      <td>2019-02-20 02:32:50.0000000</td>\n",
              "    </tr>\n",
              "    <tr>\n",
              "      <th>1209698</th>\n",
              "      <td>966294A9-F98E-491F-A5F2-2B07B07B6ED7</td>\n",
              "      <td>2019-02-20 02:33:11.0000000</td>\n",
              "    </tr>\n",
              "    <tr>\n",
              "      <th>1209699</th>\n",
              "      <td>8130537F-9317-48E5-BA62-19766B6A5032</td>\n",
              "      <td>2019-02-20 02:33:50.0000000</td>\n",
              "    </tr>\n",
              "    <tr>\n",
              "      <th>1209700</th>\n",
              "      <td>3AFC060B-B90A-4E5F-B3DF-0FEACA0B0252</td>\n",
              "      <td>2019-02-20 02:34:37.0000000</td>\n",
              "    </tr>\n",
              "    <tr>\n",
              "      <th>1209701</th>\n",
              "      <td>FFA89731-278F-48A0-8433-231E7FD7B2C4</td>\n",
              "      <td>2019-02-20 02:34:59.0000000</td>\n",
              "    </tr>\n",
              "    <tr>\n",
              "      <th>1209702</th>\n",
              "      <td>7983860B-8D92-4DC3-ADC8-8AACD3A110B4</td>\n",
              "      <td>2019-02-20 02:35:03.0000000</td>\n",
              "    </tr>\n",
              "    <tr>\n",
              "      <th>1209703</th>\n",
              "      <td>ffffffff-d707-9c07-0000-000000000000</td>\n",
              "      <td>2019-02-20 02:35:04.0000000</td>\n",
              "    </tr>\n",
              "    <tr>\n",
              "      <th>1209704</th>\n",
              "      <td>16A7BE74-F509-4AB8-B043-11533D8F3B5E</td>\n",
              "      <td>2019-02-20 02:36:33.0000000</td>\n",
              "    </tr>\n",
              "    <tr>\n",
              "      <th>1209705</th>\n",
              "      <td>16A7BE74-F509-4AB8-B043-11533D8F3B5E</td>\n",
              "      <td>2019-02-20 02:36:35.0000000</td>\n",
              "    </tr>\n",
              "  </tbody>\n",
              "</table>\n",
              "</div>"
            ],
            "text/plain": [
              "                                      user_id                activity_date\n",
              "1209696  438E84E2-CDD3-4311-BC67-8B726149CFCB  2019-02-20 02:31:37.0000000\n",
              "1209697  8CC36A55-4B70-48D6-A67C-16C290D62988  2019-02-20 02:32:50.0000000\n",
              "1209698  966294A9-F98E-491F-A5F2-2B07B07B6ED7  2019-02-20 02:33:11.0000000\n",
              "1209699  8130537F-9317-48E5-BA62-19766B6A5032  2019-02-20 02:33:50.0000000\n",
              "1209700  3AFC060B-B90A-4E5F-B3DF-0FEACA0B0252  2019-02-20 02:34:37.0000000\n",
              "1209701  FFA89731-278F-48A0-8433-231E7FD7B2C4  2019-02-20 02:34:59.0000000\n",
              "1209702  7983860B-8D92-4DC3-ADC8-8AACD3A110B4  2019-02-20 02:35:03.0000000\n",
              "1209703  ffffffff-d707-9c07-0000-000000000000  2019-02-20 02:35:04.0000000\n",
              "1209704  16A7BE74-F509-4AB8-B043-11533D8F3B5E  2019-02-20 02:36:33.0000000\n",
              "1209705  16A7BE74-F509-4AB8-B043-11533D8F3B5E  2019-02-20 02:36:35.0000000"
            ]
          },
          "metadata": {
            "tags": []
          },
          "execution_count": 11
        }
      ]
    },
    {
      "metadata": {
        "id": "6boDV3B8ue29",
        "colab_type": "text"
      },
      "cell_type": "markdown",
      "source": [
        "## Commonly tracked event attributes\n",
        "\n",
        "More often, an event log contains additional columns to flesh out what happens each time an event is triggered:\n",
        "\n",
        "* Event or product type (what)\n",
        "* Transaction amount and/or fee (how much)\n",
        "* Geographic location (where)\n",
        "* Marketplace seller and buyer identifiers (who)\n",
        "* Marketplace listing identifier (what)\n",
        "\n",
        "It is also common to augment an event log with information related to the users, such as:\n",
        "\n",
        "* Marketing acquisition channel (e.g., paid vs. organic)\n",
        "* Customer segment (e.g., B2C vs. B2B)\n",
        "\n",
        "The more additional columns you have in your event log, the more flexibility you have to perform segmentation analysis to understand your business in more detail.\n",
        "\n",
        "The example event log below shows a unique user identifier (\"client_id\"), event date (\"date\"), transaction amount (\"value_usd\"), and customer segment (\"segment\")."
      ]
    },
    {
      "metadata": {
        "id": "erZ0p4rYu2Zv",
        "colab_type": "code",
        "outputId": "d8433978-7ba2-4d24-d3db-40c0c25f2bb2",
        "colab": {
          "base_uri": "https://localhost:8080/",
          "height": 355
        }
      },
      "cell_type": "code",
      "source": [
        "# Edit this filename to your local filename.csv if using a local CSV file\n",
        "filename = 'https://raw.githubusercontent.com/theventurecity/analytics/master/data/ServBiz_transactions.csv'\n",
        "\n",
        "t = pd.read_csv(filename)\n",
        "t.tail(10)"
      ],
      "execution_count": 0,
      "outputs": [
        {
          "output_type": "execute_result",
          "data": {
            "text/html": [
              "<div>\n",
              "<style scoped>\n",
              "    .dataframe tbody tr th:only-of-type {\n",
              "        vertical-align: middle;\n",
              "    }\n",
              "\n",
              "    .dataframe tbody tr th {\n",
              "        vertical-align: top;\n",
              "    }\n",
              "\n",
              "    .dataframe thead th {\n",
              "        text-align: right;\n",
              "    }\n",
              "</style>\n",
              "<table border=\"1\" class=\"dataframe\">\n",
              "  <thead>\n",
              "    <tr style=\"text-align: right;\">\n",
              "      <th></th>\n",
              "      <th>client_id</th>\n",
              "      <th>date</th>\n",
              "      <th>value_usd</th>\n",
              "      <th>segment</th>\n",
              "    </tr>\n",
              "  </thead>\n",
              "  <tbody>\n",
              "    <tr>\n",
              "      <th>420781</th>\n",
              "      <td>27902A</td>\n",
              "      <td>2019-02-28</td>\n",
              "      <td>8.7500</td>\n",
              "      <td>B2B</td>\n",
              "    </tr>\n",
              "    <tr>\n",
              "      <th>420782</th>\n",
              "      <td>34181A</td>\n",
              "      <td>2019-02-28</td>\n",
              "      <td>18.9700</td>\n",
              "      <td>B2C</td>\n",
              "    </tr>\n",
              "    <tr>\n",
              "      <th>420783</th>\n",
              "      <td>30168A</td>\n",
              "      <td>2019-02-28</td>\n",
              "      <td>17.7250</td>\n",
              "      <td>B2C</td>\n",
              "    </tr>\n",
              "    <tr>\n",
              "      <th>420784</th>\n",
              "      <td>30844A</td>\n",
              "      <td>2019-02-28</td>\n",
              "      <td>19.9750</td>\n",
              "      <td>B2C</td>\n",
              "    </tr>\n",
              "    <tr>\n",
              "      <th>420785</th>\n",
              "      <td>35815A</td>\n",
              "      <td>2019-02-28</td>\n",
              "      <td>17.9750</td>\n",
              "      <td>B2C</td>\n",
              "    </tr>\n",
              "    <tr>\n",
              "      <th>420786</th>\n",
              "      <td>16958A</td>\n",
              "      <td>2019-02-28</td>\n",
              "      <td>17.4500</td>\n",
              "      <td>B2C</td>\n",
              "    </tr>\n",
              "    <tr>\n",
              "      <th>420787</th>\n",
              "      <td>13090A</td>\n",
              "      <td>2019-02-28</td>\n",
              "      <td>13.4750</td>\n",
              "      <td>B2C</td>\n",
              "    </tr>\n",
              "    <tr>\n",
              "      <th>420788</th>\n",
              "      <td>19162A</td>\n",
              "      <td>2019-02-28</td>\n",
              "      <td>13.6375</td>\n",
              "      <td>B2B</td>\n",
              "    </tr>\n",
              "    <tr>\n",
              "      <th>420789</th>\n",
              "      <td>28409A</td>\n",
              "      <td>2019-02-28</td>\n",
              "      <td>14.7250</td>\n",
              "      <td>B2C</td>\n",
              "    </tr>\n",
              "    <tr>\n",
              "      <th>420790</th>\n",
              "      <td>12080A</td>\n",
              "      <td>2019-02-28</td>\n",
              "      <td>18.3250</td>\n",
              "      <td>B2C</td>\n",
              "    </tr>\n",
              "  </tbody>\n",
              "</table>\n",
              "</div>"
            ],
            "text/plain": [
              "       client_id        date  value_usd segment\n",
              "420781    27902A  2019-02-28     8.7500     B2B\n",
              "420782    34181A  2019-02-28    18.9700     B2C\n",
              "420783    30168A  2019-02-28    17.7250     B2C\n",
              "420784    30844A  2019-02-28    19.9750     B2C\n",
              "420785    35815A  2019-02-28    17.9750     B2C\n",
              "420786    16958A  2019-02-28    17.4500     B2C\n",
              "420787    13090A  2019-02-28    13.4750     B2C\n",
              "420788    19162A  2019-02-28    13.6375     B2B\n",
              "420789    28409A  2019-02-28    14.7250     B2C\n",
              "420790    12080A  2019-02-28    18.3250     B2C"
            ]
          },
          "metadata": {
            "tags": []
          },
          "execution_count": 13
        }
      ]
    },
    {
      "metadata": {
        "id": "iLMTg6_ou1I9",
        "colab_type": "text"
      },
      "cell_type": "markdown",
      "source": [
        "## Event log sources\n",
        "\n",
        "Event logs can come from a variety of different sources:\n",
        "\n",
        "* E-commerce shopping carts all have the ability to query the transactions table or export it into a CSV file\n",
        "* Many apps track key events as a matter of course, writing them to a production database that can then be replicated and queried for analytics \n",
        "* Stripe transactions logs can be downloaded from their site; find out more about how to do so [here](https://stripe.com/docs/reporting)\n",
        "* In addition to enabling analytics within their customer-facing UI's, freemium event tracking services like Mixpanel and Amplitude allow for extracting raw events with their APIs. For scripts on how to do this, visit our [data engineering repository](https://site)\n",
        "* Segment, a paid service, allows you to write events to any endpoint of your choosing, including cloud data storage for subsequent analysis\n"
      ]
    },
    {
      "metadata": {
        "id": "LYfy--nLzM8k",
        "colab_type": "text"
      },
      "cell_type": "markdown",
      "source": [
        "## Things to watch out for\n",
        "\n",
        "* **Rogue events** -- At TheVentureCity, we have encountered some data sets that contained events that were not indicative of actual usage of a product. For example, Mixpanel records emails sent to users--a useful feature for sure. But in those cases, we choose not to count receiving an email--or even opening it--as meaningful usage of the product\n",
        "* **Payments vs. triggered events** -- It is important to understand what kind of data you are looking at and how it maps to the nature of the product you are analyzing. Sales transactions capture the bottom of the funnel, but there may also be up-funnel events that indicate that users are engaging with and receiving value from the product. Often, mixing multiple event logs can help provide a fuller picture of what is happening in your product\n",
        "* **Monthly vs. annual payments** -- We have seen SaaS payment transaction logs that mix annual subscription renewals with monthly renewals. This makes it tough to calculate monthly churn; just because a customer doesn't show up in the transaction log for a particular month does not mean they have quit the product. Therefore, in this situation, you may want to standardize all of the annual payments to be spread out as monthly payments. Or, you may want to use user-triggered events to indicate active usage rather than a stream of payment events\n",
        "\n",
        "Oftentimes, it makes sense to perform some **pre-processing** to clean up your event data prior to feeding it into a data analysis pipeline. This could include filtering out extraneous event types; specifying a date range; or spreading annual payments to a monthly cadence."
      ]
    },
    {
      "metadata": {
        "id": "Ybeta5HNzfNP",
        "colab_type": "text"
      },
      "cell_type": "markdown",
      "source": [
        "## A note on Google Analytics\n",
        "You might be asking: \"Why go to the trouble of analyzing a raw event log when I can just use Google Analytics (GA)?\" The answer is that a simple event log gives insights that GA can't.\n",
        "\n",
        "For sure, GA is an amazing tool. With relatively little instrumentation effort, you can see how many people are coming to your site or app, where they come from, how long they stay, and which pages they visit. You can use it to understand funnel conversion, establish customer segments, measure acquisition channels, track key events, and establish goal conversions. Plus it's free! No wonder it has 83% market share. Most startups should begin by instrumenting with GA as an easy way to track usage and avoid “flying blind.” \n",
        "\n",
        "**BUT**, GA does not allow for a comprehensive understanding of your startup's business. That's because the free version of GA does not let you analyze your events, conversions, and transactions at a user level (the paid version, Google Analytics 360, does but it costs $150K on up). "
      ]
    },
    {
      "metadata": {
        "id": "kDdJFK6UcFVB",
        "colab_type": "text"
      },
      "cell_type": "markdown",
      "source": [
        "## Next Step: Transform from Raw Event Log to \"DAU Decorated\"\n",
        "To see what you can do with your event log, visit [Create the DAU Decorated Data Set](https://colab.research.google.com/drive/12uehG2EcIqxcTazKs-pNQRTQSckllOmE)."
      ]
    },
    {
      "metadata": {
        "id": "rgB6St0Pzg4d",
        "colab_type": "code",
        "colab": {}
      },
      "cell_type": "code",
      "source": [
        ""
      ],
      "execution_count": 0,
      "outputs": []
    }
  ]
}